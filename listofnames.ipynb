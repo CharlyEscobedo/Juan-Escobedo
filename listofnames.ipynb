{
 "cells": [
  {
   "cell_type": "code",
   "execution_count": 9,
   "metadata": {},
   "outputs": [
    {
     "name": "stdout",
     "output_type": "stream",
     "text": [
      "how data do you need to add in the list?3\n",
      "give me the name of people: re\n",
      "give me the name of people: te\n",
      "give me the name of people: fe\n",
      "which number will be selected?: 2\n",
      "fe\n"
     ]
    }
   ],
   "source": [
    "values = int(input(\"how data do you need to add in the list?\"))\n",
    "names = []\n",
    "total = 0\n",
    "for i in range(0, values):\n",
    "    x = input(\"give me the name of people: \")\n",
    "    names.append(x)\n",
    "totalpeople = int(input(\"which number will be selected?: \"))\n",
    "    \n",
    "if totalpeople < values:\n",
    "    print(names[totalpeople])\n",
    "\n",
    "else:\n",
    "    print(\"that number does not exist\")"
   ]
  },
  {
   "cell_type": "code",
   "execution_count": null,
   "metadata": {},
   "outputs": [],
   "source": []
  },
  {
   "cell_type": "code",
   "execution_count": null,
   "metadata": {},
   "outputs": [],
   "source": []
  }
 ],
 "metadata": {
  "kernelspec": {
   "display_name": "Python 3",
   "language": "python",
   "name": "python3"
  },
  "language_info": {
   "codemirror_mode": {
    "name": "ipython",
    "version": 3
   },
   "file_extension": ".py",
   "mimetype": "text/x-python",
   "name": "python",
   "nbconvert_exporter": "python",
   "pygments_lexer": "ipython3",
   "version": "3.7.3"
  }
 },
 "nbformat": 4,
 "nbformat_minor": 2
}
